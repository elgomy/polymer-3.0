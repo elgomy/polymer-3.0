{
 "cells": [
  {
   "cell_type": "markdown",
   "metadata": {},
   "source": [
    "### Creación de un componente básico con Polymer 3.0"
   ]
  },
  {
   "cell_type": "code",
   "execution_count": null,
   "metadata": {
    "collapsed": true
   },
   "outputs": [],
   "source": [
    "# Se han eliminado las etiquetas 'dom-module' y ahora todo el código se encuentra dentro de una\n",
    "# clase que hereda de PolymerElement\n",
    "\n",
    "import {html, PolymerElement} from '@polymer/polymer/polymer-element.js';\n",
    "\n",
    " export class BasicElement extends PolymerElement { # siempre es recomendabel exportar nuestros elementos\n",
    "    \n",
    "    # por un lado tenemos el template, lo que es una novedad respecto a Polymer 2\n",
    "  static get template() {\n",
    "    return html` # vemos que tenemos el tag 'html'\n",
    "      <style>\n",
    "        :host {\n",
    "          display: block;\n",
    "        }\n",
    "      </style>\n",
    "      <h2>Hello [[prop1]]!</h2> # binding normal\n",
    "    `;\n",
    "  }\n",
    "    # aquí tenemos las propiedades\n",
    "  static get properties() {\n",
    "    return {\n",
    "      prop1: {\n",
    "        type: String,\n",
    "        value: 'basic-element',\n",
    "      },\n",
    "    };\n",
    "  }\n",
    "}\n",
    "\n",
    "window.customElements.define('basic-element', BasicElement); # aquí también cambia la sintaxis respecto a Polymer 2"
   ]
  },
  {
   "cell_type": "markdown",
   "metadata": {},
   "source": [
    "### Creación de un componente básico con lit-HTML"
   ]
  },
  {
   "cell_type": "code",
   "execution_count": null,
   "metadata": {
    "collapsed": true
   },
   "outputs": [],
   "source": [
    "# en lugar de importar PolymerElement importamos LitElement\n",
    "    import {LitElement, html} from '@polymer/lit-element';\n",
    "\n",
    "    class MyElement extends LitElement {\n",
    "\n",
    "      static get properties() { \n",
    "          return { \n",
    "              mood: String \n",
    "          }\n",
    "      }\n",
    "        \n",
    "      constructor(){\n",
    "          super();\n",
    "          this.mood=\"hola\"\n",
    "      }\n",
    "\n",
    "      _render({mood}) {\n",
    "        return html`<style> .mood { color: green; } </style>\n",
    "          Web Components are <span class=\"mood\">${mood}</span>!`;\n",
    "      }\n",
    "\n",
    "    }\n",
    "\n",
    "    customElements.define('my-element', MyElement);\n",
    "  </script>\n",
    "\n",
    " "
   ]
  },
  {
   "cell_type": "markdown",
   "metadata": {},
   "source": [
    "### Custom Elements"
   ]
  },
  {
   "cell_type": "markdown",
   "metadata": {},
   "source": [
    "#### Diferir trabajos no críticos"
   ]
  },
  {
   "cell_type": "markdown",
   "metadata": {},
   "source": [
    "Siempre que sea posible, debemos diferir trabajos hasta después de la primera pintura. Para ello podemos usar el módulo 'render-status' que nos provee la utilidad 'afterNextRender' para este propósito"
   ]
  },
  {
   "cell_type": "code",
   "execution_count": null,
   "metadata": {
    "collapsed": true
   },
   "outputs": [],
   "source": [
    "import {afterNextRender} from '@polymer/polymer/lib/utils/render-status.js';\n",
    "\n",
    "class DeferElement extends PolymerElement {\n",
    "  ...\n",
    "  constructor() {\n",
    "    super();\n",
    "    # When possible, use afterNextRender to defer non-critical\n",
    "    # work until after first paint.\n",
    "    afterNextRender(this, function() {\n",
    "      this.addEventListener('click', this._handleClick);\n",
    "    });\n",
    "  }\n",
    "}"
   ]
  },
  {
   "cell_type": "markdown",
   "metadata": {},
   "source": [
    "#### Extender otros componentes"
   ]
  },
  {
   "cell_type": "markdown",
   "metadata": {},
   "source": [
    "Importante: si hemos definido un template en el elemento padre del que estamos heredando, podemos heredar su templante en el elemento hijo, si necesidad de que creemos un nuevo template"
   ]
  },
  {
   "cell_type": "code",
   "execution_count": null,
   "metadata": {
    "collapsed": true
   },
   "outputs": [],
   "source": [
    "'''\n",
    "OJO!!!! la sintaxis es muy similar a la de Polymer 2 en el caso de extender otros componentes\n",
    "'''\n",
    "\n",
    "\n",
    "import {MyElment} from './my-element.js';\n",
    "\n",
    "export class ExtendedElement extends MyElement { # IMP no olvidar el export en el padre\n",
    "  static get is() { \n",
    "      return 'extended-element'; \n",
    "  }\n",
    "\n",
    "  static get properties() {\n",
    "    return {\n",
    "      thingCount: {\n",
    "        value: 0,\n",
    "        observer: '_thingCountChanged'\n",
    "      }\n",
    "    }\n",
    "  }\n",
    "  _thingCountChanged() {\n",
    "    console.log(`thing count is ${this.thingCount}`);\n",
    "  }\n",
    "};\n",
    "\n",
    "customElements.define(ExtendedElement.is, ExtendedElement);"
   ]
  },
  {
   "cell_type": "markdown",
   "metadata": {},
   "source": [
    "También podemos extender un template del elemento padre de la siguiente manera:"
   ]
  },
  {
   "cell_type": "code",
   "execution_count": null,
   "metadata": {
    "collapsed": true
   },
   "outputs": [],
   "source": [
    "'''\n",
    "OJO!!! para hacer esto tenemos que importar el html:\n",
    "import {html, PolymerElement} from '@polymer/polymer/polymer-element.js';\n",
    "''' \n",
    "# en el elemento hijo:\n",
    "static get template() {\n",
    "  return html`\n",
    "      <p>This content is from ChildClass.</p>\n",
    "      <p>${super.template}</p>                  # con esta expresión extendemos el template del padre\n",
    "      <p>Hello again from ChildClass.</p>`;\n",
    "}"
   ]
  },
  {
   "cell_type": "markdown",
   "metadata": {},
   "source": [
    "Otra opción es definir templates parciales en el elemento padre para después heredar en el hijo"
   ]
  },
  {
   "cell_type": "code",
   "execution_count": null,
   "metadata": {
    "collapsed": true
   },
   "outputs": [],
   "source": [
    "# Elemento padre\n",
    "export class BaseClass extends PolymerElement {\n",
    "  static get template() {\n",
    "    return html`\n",
    "      <div>${this.headerTemplate}</div> # template parcial\n",
    "      <p>Hello this is some content</p>\n",
    "      <div>${this.footerTemplate}</div> # template parcial\n",
    "    `;\n",
    "  }\n",
    "  static get headerTemplate() { return html`<h1>BaseClass: Header</h1>` } # template parcial\n",
    "  static get footerTemplate() { return html`<h1>BaseClass: Footer</h1>` } # template parcial\n",
    "}\n",
    "\n",
    "# Elemento hijo\n",
    "export class ChildClass extends BaseClass {\n",
    "    static get headerTemplate() { return html`<h2>ChildClass: Header</h2>` }\n",
    "    static get footerTemplate() { return html`<h2>ChildClass: Footer</h2>` }\n",
    "  }"
   ]
  },
  {
   "cell_type": "markdown",
   "metadata": {},
   "source": [
    "#### Mixins"
   ]
  },
  {
   "cell_type": "code",
   "execution_count": null,
   "metadata": {
    "collapsed": true
   },
   "outputs": [],
   "source": [
    "# crear un mixin con la función flecha. OJO!!! no olvidar el export const / let!!!!:\n",
    "export const MyMixin = (superClass) => class extends superClass {\n",
    "  ...\n",
    "}\n",
    "\n",
    "# si deseamos hacer un paquete con un mixin para después distribuirlo se recomienda lo siguiente:\n",
    "# - usar la función dedupingMixin para asegurarnos que el mixin sólo se aplicará una vez\n",
    "# - definir el mixin en un módulo y exportarlo\n",
    "import {dedupingMixin} from '@polymer/polymer/lib/utils/mixin.js';\n",
    "\n",
    "# definimos el mixin. OJO!!! no olvidar el let!!!!\n",
    "let internalMixinB = (base) =>\n",
    "  class extends base {\n",
    "    ...\n",
    "  }\n",
    "\n",
    "# lo deduplicamos y exportamos \n",
    "\n",
    "\n",
    "export const MixinB = dedupingMixin(internalMixinB);\n",
    "\n",
    "# lo usamos dentro de otro componente\n",
    "import {mixinB} from './mixin-b.js';\n",
    "\n",
    "class Foo extends MixinB(PolymerElement) { ... }"
   ]
  },
  {
   "cell_type": "markdown",
   "metadata": {},
   "source": [
    "#### Valores por defecto de una propiedad"
   ]
  },
  {
   "cell_type": "markdown",
   "metadata": {},
   "source": [
    "Los valores por defecto de una propiedad los podemos definir o bien dentro del objeto 'properties' en el campo 'value' o de manera imperativa en el 'constructor':"
   ]
  },
  {
   "cell_type": "code",
   "execution_count": null,
   "metadata": {
    "collapsed": true
   },
   "outputs": [],
   "source": [
    "# en el objeto 'properties'\n",
    "static get properties() {\n",
    "    return {\n",
    "      mode: {\n",
    "        type: String,\n",
    "        value: 'auto'\n",
    "      },\n",
    "    }\n",
    "}\n",
    "\n",
    "# en el constructor\n",
    "constructor() {\n",
    "  super();  \n",
    "  this.mode = 'auto';\n",
    "  this.data = {};\n",
    "}"
   ]
  },
  {
   "cell_type": "markdown",
   "metadata": {},
   "source": [
    "#### Notificación de los cambios del valor de una propiedad a través de eventos"
   ]
  },
  {
   "cell_type": "markdown",
   "metadata": {},
   "source": [
    "Si queremos que se lance un evento cada vez que cambie el valor de una propiedad, el 'notify' tiene que estar definido como 'true'. En ese caso, se lanzará el evento 'nombre-propiedad-changed'.\n",
    "Importante, este evento no hace burbujas, por lo que el manejador de eventos debe ser agregado directamente al elemento que genera el evento"
   ]
  },
  {
   "cell_type": "markdown",
   "metadata": {},
   "source": [
    "### Shadow DOM & Estilos"
   ]
  },
  {
   "cell_type": "markdown",
   "metadata": {},
   "source": [
    "#### Uso del 'slot'"
   ]
  },
  {
   "cell_type": "markdown",
   "metadata": {},
   "source": [
    "Por defecto, si un elemento tiene shadow DOM el shadow tree es renderizado en vez del hijo del elemento:"
   ]
  },
  {
   "cell_type": "code",
   "execution_count": null,
   "metadata": {
    "collapsed": true
   },
   "outputs": [],
   "source": [
    "# imaginemos que tenemos un elemento <my-header> con el siguiente shadow tree:\n",
    "<header>\n",
    "  <h1><slot></slot></h1>\n",
    "  <button>Menu</button>\n",
    "</header>\n",
    "\n",
    "# y ahora imaginemos que a ese elemente, que tiene el shadow tree anterior, le agregamos un hijo texto\n",
    "<my-header>Shadow DOM</my-header>\n",
    "\n",
    "# como hemos puesto el <slot> entre las <h1>, el hijo anterior 'Shadow DOM' se renderizará \n",
    "# en el espacio del slot, así (el nuevo árbol se llamará 'light DOM':\n",
    "<my-header>\n",
    "  <header>\n",
    "    <h1>Shadow DOM</h1> ## aquí es donde estaba el slot, y ahora está 'Shadow DOM'\n",
    "    <button>Menu</button>\n",
    "  </header>\n",
    "</my-header>"
   ]
  },
  {
   "cell_type": "code",
   "execution_count": null,
   "metadata": {
    "collapsed": true
   },
   "outputs": [],
   "source": [
    "# podemos determinar que un slot se muestre sólo si lo definimos explícitamente con el atributo 'name'\n",
    "<slot-element>\n",
    "      <span slot=\"title\"> este es el slot con el name=\"title\"</span>\n",
    "</slot-element>\n",
    "\n",
    "# código de nuestro 'slot-element'\n",
    "<p><slot name=\"title\"></slot></p>\n",
    "\n",
    "# vemos que el mensaje del span cuyo slot = 'title' se mostrará en el slot con name='title'"
   ]
  },
  {
   "cell_type": "markdown",
   "metadata": {},
   "source": [
    "#### Estilos"
   ]
  },
  {
   "cell_type": "markdown",
   "metadata": {},
   "source": [
    "Aunque el 'shadow tree' encapsula los estilos de un elemento del exterior, existen algunas propiedades de estilo hereditarias que aún se heredan desde el elemento 'host' hasta el 'shadow tree':"
   ]
  },
  {
   "cell_type": "code",
   "execution_count": null,
   "metadata": {
    "collapsed": true
   },
   "outputs": [],
   "source": [
    "# en nuestro index.html, donde tenemos nuestro mi-elemento.js, definimos el siguiente estilo para el body\n",
    "<style>\n",
    "    body{color:red;}\n",
    "</style>\n",
    "\n",
    "# en mi-elemento.js tenemos otros estilos, pero no hemos definido el estilo 'color', por lo que se\n",
    "# heredará el color:red del elemento host, que en este caso el index.html"
   ]
  },
  {
   "cell_type": "markdown",
   "metadata": {},
   "source": [
    "Hay otra manera en la que el 'shadow tree' de un elemento es alcanzado por estilos de otro elemento, en este caso, de su elemento 'host'"
   ]
  },
  {
   "cell_type": "code",
   "execution_count": null,
   "metadata": {
    "collapsed": true
   },
   "outputs": [],
   "source": [
    "# imaginemos que tenemos un elemento 'host-element' y dentro tenemos el elemento 'styles-element'\n",
    "# dentro de styles-element hemos definido el siguiente estilo en el selector :host\n",
    ":host(.warning){\n",
    " \tbackground-color:yellow\n",
    "}\n",
    "# si en el host-element insertamos nuestro styles-element con la clase .warning:\n",
    "<styles-element class=\"warning\"></styles-element>"
   ]
  },
  {
   "cell_type": "markdown",
   "metadata": {},
   "source": [
    "#### Theming y Custom Properties"
   ]
  },
  {
   "cell_type": "markdown",
   "metadata": {},
   "source": [
    "Podemos definir una API de estilos para nuestro componente a través de las custom properties, que son una especie de variables CSS:"
   ]
  },
  {
   "cell_type": "code",
   "execution_count": null,
   "metadata": {
    "collapsed": true
   },
   "outputs": [],
   "source": [
    "# tenemos nuestro styles-element donde definimos una custom property con un valor por defecto\n",
    ":host{\n",
    "    background-color:var(--mi-color, blue)\n",
    "}\n",
    "\n",
    "# desde su componente host le podemos dar cualquier valor a la variable --mi-color\n",
    ":host {\n",
    "    --mi-color:red;\n",
    "}"
   ]
  },
  {
   "cell_type": "markdown",
   "metadata": {},
   "source": [
    "#### Mixins de Custom Properties"
   ]
  },
  {
   "cell_type": "markdown",
   "metadata": {},
   "source": [
    "Básicamente un mixin es una variable que contiene múltiples propiedades:"
   ]
  },
  {
   "cell_type": "code",
   "execution_count": null,
   "metadata": {
    "collapsed": true
   },
   "outputs": [],
   "source": [
    "'''\n",
    "IMPORTANTÍSIMO: para usar los mixins debemos importar el polyfill\n",
    "import '@webcomponents/shadycss/entrypoints/apply-shim.js';\n",
    "'''\n",
    "\n",
    "# en el host-element definimos el mixin:\n",
    "<style>\n",
    "    :host {\n",
    "        --mi-mixin:{\n",
    "          \tcolor:blue\n",
    "          }   \n",
    "   \t}\n",
    "\n",
    "</style>\n",
    "\n",
    "# aplicamos el mixin en el hijo:\n",
    ":host {\n",
    "    @apply --mi-mixin\n",
    "}\n"
   ]
  },
  {
   "cell_type": "markdown",
   "metadata": {},
   "source": [
    "#### Estilo para el slot"
   ]
  },
  {
   "cell_type": "code",
   "execution_count": null,
   "metadata": {
    "collapsed": true
   },
   "outputs": [],
   "source": [
    "# es necesario que definamos en el componente:\n",
    "static get template() {\n",
    "  return html`\n",
    "    <style>\n",
    "      p ::slotted(*), h1 ::slotted(*) { # el selector ::slotted\n",
    "        font-family: sans-serif;\n",
    "        color:green;\n",
    "      }\n",
    "    </style>\n",
    "    <h1><div><slot name='heading1'></slot></div></h1>\n",
    "    <p><slot name='para'></slot></p>\n",
    "  `;\n",
    "}\n",
    "\n",
    "\n",
    "# en el padre\n",
    "<head>\n",
    "  <script type=\"module\" src=\"custom-element.js\"></script>\n",
    "</head>\n",
    "<body>  \n",
    "  <custom-element>\n",
    "      <div slot=\"heading1\">Heading 1. I'm green.</div>\n",
    "      <div slot=\"para\">Paragraph text. I'm green too.</div>\n",
    "    </custom-element>\n",
    "</body>"
   ]
  },
  {
   "cell_type": "markdown",
   "metadata": {},
   "source": [
    "#### Compartir estilos entre elementos"
   ]
  },
  {
   "cell_type": "markdown",
   "metadata": {},
   "source": [
    "En actualización"
   ]
  },
  {
   "cell_type": "markdown",
   "metadata": {},
   "source": [
    "#### Cambiar estilos dinámicamente"
   ]
  },
  {
   "cell_type": "markdown",
   "metadata": {},
   "source": [
    "podemos modificar dinámicamente el ***custom style*** de un componente llamando al método updateStyles()"
   ]
  },
  {
   "cell_type": "code",
   "execution_count": null,
   "metadata": {
    "collapsed": true
   },
   "outputs": [],
   "source": [
    "'''\n",
    "IMPORTANTÍSIMO\n",
    "import '@webcomponents/shadycss/entrypoints/apply-shim.js';\n",
    "'''\n",
    "\n",
    "<style>\n",
    "    :host {\n",
    "        color:var(--mi-color, blue) # color azul por defecto en el custom style\n",
    "    }\n",
    "</style>\n",
    "\n",
    "<button on-click=\"changeTheme\">Change theme</button> # color azul. Cuando clickemos el botón cambia el color\n",
    "\n",
    "############\n",
    "\n",
    "changeTheme(){\n",
    "  this.updateStyles({\n",
    "      '--mi-color':'red' # cambiamos el custom style a rojo\n",
    "  })\n",
    "}"
   ]
  },
  {
   "cell_type": "markdown",
   "metadata": {},
   "source": [
    "### Sistema de datos"
   ]
  },
  {
   "cell_type": "markdown",
   "metadata": {},
   "source": [
    "Polymer nos permite observar cambios en las propiedades de un elmento y realizar varias acciones basadas en los cambios de los datos. Estas acciones, o efectos de una propiedad, incluyen:\n",
    "\n",
    "* Observers, que son callbacks invocados cuando un dato cambia.\n",
    "\n",
    "* Computed properties, que son propiedades virtuales computadas, basadas en otras propiedades, y recomputadas cuando los input data cambian.\n",
    "\n",
    "* Binding, que son anotaciones que actualizan las propiedades, atributos, o texto de un nodo del DOM cuando un dato cambia\n",
    "\n",
    "Cada elemento de Polymer maneja si propio modelo de datos y los elementos de su DOM local. El modelo de este elemento son sus propiedades. El binding permite linkar el modelo de un elemento con los elementos en su DOM local.\n",
    "\n",
    "El sistema de datos está basado en ***paths***, que no objetos, donde el path representa una propiedad o subpropiedad relativa al elemento host. \n",
    "\n"
   ]
  },
  {
   "cell_type": "code",
   "execution_count": null,
   "metadata": {
    "collapsed": true
   },
   "outputs": [],
   "source": [
    "class NameCard extends PolymerElement {\n",
    "  constructor() {\n",
    "    super();\n",
    "    this.name = {first: 'Kai', last: 'Li'};\n",
    "  }\n",
    "  static get template() {\n",
    "    return html `\n",
    "      <div>[[name.first]] [[name.last]]</div> # paths\n",
    "    `;\n",
    "  }\n",
    "}\n",
    "customElements.define('name-card', NameCard);"
   ]
  },
  {
   "cell_type": "markdown",
   "metadata": {},
   "source": [
    "#### Cambios observables y no observables"
   ]
  },
  {
   "cell_type": "markdown",
   "metadata": {},
   "source": [
    "Ojo, hay cambios que Polymer no puede detectar y, por lo tanto, no puede asociarlos a un path. Otros, los llamados ***cambios observables*** son detectados automáticamente:\n",
    "\n",
    "* Settear una propiedad directamente a un elemento\n",
    "\n",
    "```\n",
    "this.owner = 'Jane'; \n",
    "```\n",
    "\n",
    "un observer, el binding o una computed property detectarán este cambio\n",
    "\n",
    "* Settear la subpropieddad de un elemento con un binding de 2 direcciones\n",
    "\n",
    "```\n",
    "<local-dom-child name=\"{{hostProperty.subProperty}}\"></local-dom-child>\n",
    "```\n",
    "\n",
    "Entre los cambios ***no observables estarían los siguientes***:\n",
    "\n",
    "* Mutar imperativamente la subpropiedad de un objeto:\n",
    "\n",
    "```\n",
    "this.address.street = 'Elm Street';\n",
    "```\n",
    "lo deberíamos realizar usando métodos de Polymer:\n",
    "```\n",
    "this.set('address.street', 'Half Moon Street');\n",
    "```\n",
    "\n",
    "* Mutar imperativamente un array:\n",
    "\n",
    "```\n",
    "this.users.push({ name: 'Maturin'});\n",
    "```\n",
    "lo deberíamos hacer así:\n",
    "```\n",
    "this.push('users', { name: 'Maturin'});\n",
    "```\n",
    "\n",
    "Polymer nos ofrece los siguientes métodos para que las mutaciones en un Array sean observables:\n",
    "\n",
    "```\n",
    "push(path, item1, [..., itemN])\n",
    "pop(path)\n",
    "unshift(path, item1, [..., itemN])\n",
    "shift(path)\n",
    "splice(path, index, removeCount, [item1, ..., itemN])\n",
    "```\n",
    "\n",
    "\n",
    "Hay situaciones en la que los métodos anteriores no son válidos, por ejemplo cuando usamos una librería de terceros. En este caso, para notificar los cambios en un Array lo haríamos de la siguiente manera:\n",
    "\n",
    "```\n",
    "this.notifyPath('address.street');\n",
    "```\n",
    "usaremos notifyPath() cuando necesitemos usar el path exacto que cambió, en el resto de casos usaremos notifySplices()\n",
    "\n"
   ]
  },
  {
   "cell_type": "markdown",
   "metadata": {},
   "source": [
    "#### Setear varias propiedades a la vez"
   ]
  },
  {
   "cell_type": "code",
   "execution_count": null,
   "metadata": {
    "collapsed": true
   },
   "outputs": [],
   "source": [
    "## el observer se dispara 2 veces\n",
    "this.a = 10;\n",
    "this.b = 20;\n",
    "\n",
    "## el observer se dispara 1 vez\n",
    "this.setProperties({a: 10, b: 20});"
   ]
  },
  {
   "cell_type": "markdown",
   "metadata": {},
   "source": [
    "#### Observers"
   ]
  },
  {
   "cell_type": "code",
   "execution_count": null,
   "metadata": {
    "collapsed": true
   },
   "outputs": [],
   "source": [
    "# Observer simple:\n",
    "\n",
    "class XCustom extends PolymerElement {\n",
    "  static get properties() {\n",
    "    return {\n",
    "      active: {\n",
    "        type: Boolean,\n",
    "        // Observer method identified by name\n",
    "        observer: '_activeChanged'\n",
    "      }\n",
    "    }\n",
    "  }\n",
    "  // Observer method defined as a class method\n",
    "  _activeChanged(newValue, oldValue) {\n",
    "    this.toggleClass('highlight', newValue);\n",
    "  }\n",
    "}\n",
    "\n",
    "# Observer complejo:\n",
    "\n",
    "static get observers() {\n",
    "  return [\n",
    "    # Observer method name, followed by a list of dependencies, in parenthesis\n",
    "    'userListChanged(users.*, filter)'\n",
    "  ]\n",
    "}\n",
    "\n",
    "# Observer complejo, observar varias propiedades a la vez:\n",
    "\n",
    "class XCustom extends PolymerElement {\n",
    "\n",
    "  static get properties() {\n",
    "    return {\n",
    "        preload: Boolean,\n",
    "        src: String,\n",
    "        size: String\n",
    "    }\n",
    "  }\n",
    "\n",
    "  # Each item of observers array is a method name followed by\n",
    "  # a comma-separated list of one or more dependencies.\n",
    "  static get observers() {\n",
    "    return [\n",
    "        'updateImage(preload, src, size)'\n",
    "    ]\n",
    "  }\n",
    "\n",
    "  # Each method referenced in observers must be defined in\n",
    "  # element prototype. The arguments to the method are new value\n",
    "  # of each dependency, and may be undefined.\n",
    "  updateImage(preload, src, size) {\n",
    "    # ... do work using dependent values\n",
    "  }\n",
    "}\n",
    "\n",
    "# Observer complejo, observar una subropiedad de un objeto\n",
    "\n",
    "  static get observers() {\n",
    "    return [\n",
    "        'userNameChanged(user.name)'\n",
    "    ]\n",
    "  }\n",
    "\n",
    "# Observer complejo, observar la mutación de un Array\n",
    "\n",
    "static get observers() {\n",
    "  return [\n",
    "    'usersAddedOrRemoved(users.splices)' #(path.splices)\n",
    "  ]\n",
    "}"
   ]
  },
  {
   "cell_type": "markdown",
   "metadata": {},
   "source": [
    "#### Propiedades computadas"
   ]
  },
  {
   "cell_type": "markdown",
   "metadata": {},
   "source": [
    "Las propiedades computadas son aquellas que toman su valor por medio de un cómputo, al que se llega mediante los valores de otras propiedades del componente."
   ]
  },
  {
   "cell_type": "code",
   "execution_count": null,
   "metadata": {
    "collapsed": true
   },
   "outputs": [],
   "source": [
    "static get properties() {\n",
    "  return {\n",
    "    nombre: String,\n",
    "    apellidos: String,\n",
    "    nombreCompleto: {\n",
    "      type: String,\n",
    "      computed: 'definirNombreCompleto(nombre, apellidos)'\n",
    "    }\n",
    "  };\n",
    "}\n",
    "\n",
    "definirNombreCompleto(nombre, apellidos) {\n",
    "  return nombre + ' ' + apellidos;\n",
    "}"
   ]
  },
  {
   "cell_type": "markdown",
   "metadata": {},
   "source": [
    "#### Binding computado"
   ]
  },
  {
   "cell_type": "markdown",
   "metadata": {},
   "source": [
    "Es similar a una propiedad computada"
   ]
  },
  {
   "cell_type": "code",
   "execution_count": null,
   "metadata": {
    "collapsed": true
   },
   "outputs": [],
   "source": [
    "class XCustom extends PolymerElement {\n",
    "  static get properties() {\n",
    "    return {\n",
    "      given: String,\n",
    "      family: String\n",
    "    };\n",
    "  }\n",
    "  \n",
    "  _formatName(given, family) { # definimos la función que devolverá el binding computado\n",
    "    return `${family}, ${given}`;  # Ojo!! aqui ya definimos el literal template!!\n",
    "  }\n",
    "  \n",
    "  static get template() {\n",
    "    return html`\n",
    "      My name is <span>[[_formatName(given, family)]]</span>\n",
    "    `;\n",
    "  }\n",
    "}"
   ]
  },
  {
   "cell_type": "markdown",
   "metadata": {},
   "source": [
    "### Helper Elements"
   ]
  },
  {
   "cell_type": "markdown",
   "metadata": {},
   "source": [
    "#### Dom-repeat"
   ]
  },
  {
   "cell_type": "markdown",
   "metadata": {},
   "source": [
    "Ojo, debemos importar el template repeater mixin:\n",
    "```\n",
    "import '@polymer/polymer/lib/elements/dom-repeat.js';\n",
    "```\n"
   ]
  },
  {
   "cell_type": "markdown",
   "metadata": {},
   "source": [
    "Cómo manejar ***eventos*** dentro de un dom-repeat:\n",
    "Cuando agreguemos un manejador de eventos de manera declarativa dentro de un dom-repeat, el repeater agrega la propiedad ***model** para cada evento enviado al manejador de eventos, el cual contiene el scope donde se ha generado la instancia del template, por lo que el item del dato será el ***model.item***"
   ]
  },
  {
   "cell_type": "code",
   "execution_count": null,
   "metadata": {
    "collapsed": true
   },
   "outputs": [],
   "source": [
    "class XCustom extends PolymerElement {\n",
    "  static get properties() {\n",
    "    return {\n",
    "      menuItems: {\n",
    "        type: Array,\n",
    "        value() {\n",
    "          return [\n",
    "            {name: 'Pizza', ordered: 0},\n",
    "            {name: 'Pasta', ordered: 0},\n",
    "            {name: 'Toast', ordered: 0}\n",
    "          ];\n",
    "        }\n",
    "      }\n",
    "    };\n",
    "  }\n",
    "  order(e) {\n",
    "    e.model.set('item.ordered', e.model.item.ordered+1);\n",
    "  }                                            \n",
    "  static get template() {\n",
    "    return html`\n",
    "      <template is=\"dom-repeat\" id=\"menu\" items=\"{{menuItems}}\">\n",
    "        <div>\n",
    "          <span>{{item.name}}</span>\n",
    "          <span>{{item.ordered}}</span>\n",
    "          <button on-click=\"order\">Order</button>\n",
    "        </div>\n",
    "      </template>\n",
    "    `;\n",
    "  }\n",
    "}"
   ]
  },
  {
   "cell_type": "markdown",
   "metadata": {},
   "source": [
    "#### Filtrado y ordenado de listas"
   ]
  },
  {
   "cell_type": "markdown",
   "metadata": {},
   "source": [
    "Podemos filtrar u ordenar una lista devuelta por un dom-repeat, especificando las propiedades ***filter*** y ***sort***"
   ]
  },
  {
   "cell_type": "code",
   "execution_count": null,
   "metadata": {
    "collapsed": true
   },
   "outputs": [],
   "source": [
    "# por ejemplo, tenemos el siguiente filtro, que actua como un observer:\n",
    "isEngineer(item) {\n",
    "  return item.type == 'engineer' || item.manager.type == 'engineer';\n",
    "}\n",
    "\n",
    "# en el dom-repeat incluimos el fitro dentro del atributo 'filter'\n",
    "<template is=\"dom-repeat\" items=\"{{employees}}\"\n",
    "    filter=\"isEngineer\" observe=\"type manager.type\">\n",
    "    \n"
   ]
  },
  {
   "cell_type": "markdown",
   "metadata": {},
   "source": [
    "#### Filtrado y ordenado dinámico de listas"
   ]
  },
  {
   "cell_type": "markdown",
   "metadata": {},
   "source": [
    "En ocasiones, queremos que esa propiedad filtro u ordenar sean dinámicas, para lo que usaremos un computed binding:"
   ]
  },
  {
   "cell_type": "code",
   "execution_count": null,
   "metadata": {
    "collapsed": true
   },
   "outputs": [],
   "source": [
    "class XCustom extends PolymerElement {\n",
    "  static get properties() {\n",
    "    return {\n",
    "      employees: {\n",
    "        type: Array,\n",
    "        value() {\n",
    "          return [\n",
    "            { firstname: \"Jack\", lastname: \"Aubrey\" },\n",
    "            { firstname: \"Anne\", lastname: \"Elliot\" },\n",
    "            { firstname: \"Stephen\", lastname: \"Maturin\" },\n",
    "            { firstname: \"Emma\", lastname: \"Woodhouse\" }\n",
    "          ];\n",
    "        }\n",
    "      }\n",
    "    };\n",
    "  }\n",
    "  order(e) {\n",
    "    e.model.set('item.ordered', e.model.item.ordered+1);\n",
    "  }\n",
    "  computeFilter(string) {\n",
    "    if (!string) {\n",
    "      # setea el filtro a nulo para deshabilitarlo \n",
    "    } else {\n",
    "      # devuelve una función filtro para el string de búsqueda actual \n",
    "      string = string.toLowerCase();\n",
    "      return function(employee) {\n",
    "        var first = employee.firstname.toLowerCase();\n",
    "        var last = employee.lastname.toLowerCase();\n",
    "        return (first.indexOf(string) != -1 ||\n",
    "            last.indexOf(string) != -1);\n",
    "      };\n",
    "    }\n",
    "  }\n",
    "  static get template() {\n",
    "    return html`\n",
    "      Search string: <input value=\"{{searchString::input}}\"><br/><br/>\n",
    "      <!-- \n",
    "        computeFilter returns a new filter function \n",
    "        whenever searchString changes \n",
    "      -->\n",
    "      <template is=\"dom-repeat\" items=\"{{employees}}\" as=\"employee\"\n",
    "        filter=\"{{computeFilter(searchString)}}\"> # filtro como binding computado\n",
    "        <div>{{employee.lastname}}, {{employee.firstname}}</div>\n",
    "      </template>\n",
    "    `;\n",
    "  }\n",
    "}"
   ]
  },
  {
   "cell_type": "markdown",
   "metadata": {},
   "source": [
    "#### Dom-repeat dentro de Dom-repeat (ver ejemplo vigio-prices)"
   ]
  },
  {
   "cell_type": "code",
   "execution_count": null,
   "metadata": {
    "collapsed": true
   },
   "outputs": [],
   "source": [
    "static get template() {\n",
    "  return html`\n",
    "    <template is=\"dom-repeat\" items=\"{{employees}}\" as=\"employee\">\n",
    "      <b>Employee {{index}}</b>\n",
    "      <div>First name: <span>{{employee.firstname}}</span></div>\n",
    "      <div>Last name: <span>{{employee.lastname}}</span></div>\n",
    "      <div>Direct reports:</div>\n",
    "      <template is=\"dom-repeat\" items=\"{{employee.reports}}\" as=\"report\" index-as=\"report_no\">\n",
    "        <div>\n",
    "        <span>{{report_no}}</span>.\n",
    "        <span>{{report.firstname}}</span> <span>{{report.lastname}}</span>\n",
    "        </div>\n",
    "      </template>\n",
    "      <br />\n",
    "    </template>\n",
    "  `;\n",
    "}\n",
    "\n",
    "# si tenemos problemas de rendimiento podemos incluir la propiedad initialCount en el dom-repeat"
   ]
  },
  {
   "cell_type": "markdown",
   "metadata": {},
   "source": [
    "#### Seleccionar un item dentro de un Array (dom-repeat)"
   ]
  },
  {
   "cell_type": "code",
   "execution_count": null,
   "metadata": {
    "collapsed": true
   },
   "outputs": [],
   "source": [
    "# usaremos el elemento array-selector\n",
    "# OJO!!!! tenemos que importar su mixin import '@polymer/polymer/lib/elements/array-selector.js';\n",
    "\n",
    "class XCustom extends PolymerElement {\n",
    "  static get properties() {\n",
    "    return {\n",
    "      employees: {\n",
    "        type: Array,\n",
    "        value() {\n",
    "          return [\n",
    "            {given: 'Kamil', family: 'Smith'},\n",
    "            {given: 'Sally', family: 'Johnson'},\n",
    "            {given: 'Shauna', family: 'Bell'},\n",
    "            {given: 'San', family: 'Zhang'},\n",
    "            {given: 'Carlo', family: 'Lopez'}\n",
    "          ];\n",
    "        }\n",
    "      }\n",
    "    };\n",
    "  }\n",
    "  toggleSelection(e) {\n",
    "    var item = this.$.employeeList.itemForElement(e.target);\n",
    "    this.$.selector.select(item);\n",
    "  }\n",
    "  static get template() {\n",
    "    return html`\n",
    "      <div><b>All employees</b></div><br />\n",
    "      <template is=\"dom-repeat\" id=\"employeeList\" items=\"{{employees}}\">\n",
    "          <div>Given name: <span>{{item.given}}</span></div>\n",
    "          <div>Family name: <span>{{item.family}}</span></div>\n",
    "          <button on-click=\"toggleSelection\">Select/deselect</button>\n",
    "          <br /><br />\n",
    "      </template>\n",
    "      <array-selector id=\"selector\" items=\"{{employees}}\" selected=\"{{selected}}\" multi toggle></array-selector>\n",
    "      <div><b>Selected employees</b></div><br />\n",
    "      <template is=\"dom-repeat\" items=\"{{selected}}\">\n",
    "          <div>Given name: <span>{{item.given}}</span></div>\n",
    "          <div>Family name: <span>{{item.family}}</span></div>\n",
    "          <br />\n",
    "      </template>\n",
    "    `;\n",
    "  }\n",
    "}\n",
    "customElements.define('x-custom', XCustom);"
   ]
  },
  {
   "cell_type": "markdown",
   "metadata": {},
   "source": [
    "#### Dom-if"
   ]
  },
  {
   "cell_type": "markdown",
   "metadata": {},
   "source": [
    "Ojo! tenemos que importar su mixin:\n",
    "```\n",
    "import '@polymer/polymer/lib/elements/dom-if.js';\n",
    "```\n",
    "Si queremos setear imperativamente la propiedad if:\n",
    "```\n",
    "var conditional = document.querySelector('dom-if');\n",
    "conditional.if = true;\n",
    "````\n",
    "\n"
   ]
  },
  {
   "cell_type": "code",
   "execution_count": null,
   "metadata": {
    "collapsed": true
   },
   "outputs": [],
   "source": []
  }
 ],
 "metadata": {
  "kernelspec": {
   "display_name": "Python 3",
   "language": "python",
   "name": "python3"
  },
  "language_info": {
   "codemirror_mode": {
    "name": "ipython",
    "version": 3
   },
   "file_extension": ".py",
   "mimetype": "text/x-python",
   "name": "python",
   "nbconvert_exporter": "python",
   "pygments_lexer": "ipython3",
   "version": "3.6.2"
  }
 },
 "nbformat": 4,
 "nbformat_minor": 2
}
