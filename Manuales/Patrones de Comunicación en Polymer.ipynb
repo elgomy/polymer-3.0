{
 "cells": [
  {
   "cell_type": "markdown",
   "metadata": {},
   "source": [
    "## Componente Service con iron-meta (pseudo-mixin)"
   ]
  },
  {
   "cell_type": "markdown",
   "metadata": {},
   "source": [
    "![Sin itulo](imagenes/iron-meta.jpg)"
   ]
  },
  {
   "cell_type": "markdown",
   "metadata": {},
   "source": [
    "En el gráfico anterior vemos lo siguiente:\n",
    "- Hemos creado un componente que contendrá nuestro 'service', en este caso el componente se llama 'my-service.js'.\n",
    "- Este componente lo hemos instanciado en 'my-app.js'.\n",
    "- Dentro de ese componente hemos creado la propiedad 'propiedad', y que será la propiedad que queramos comportir con otros componentes para acceder a los servicios que incluyamos en este componente. \n",
    "- Dentro de nuestro service tenemos que incluir el componente iron-meta:\n",
    "\n",
    "<iron-meta key=\"llave\" id=\"meta\" value=\"valor\"></iron-meta>\n",
    "\n",
    "en la clase de my-service:\n",
    "\n",
    "```\n",
    " static get properties() {\n",
    "        return {\n",
    "          propiedad:String,\n",
    "        }\n",
    " }\n",
    "\n",
    " ready(){\n",
    "        super.ready();\n",
    "        this.$.meta.value = this;\n",
    " }\n",
    "      \n",
    " evento(){\n",
    "        this.dispatchEvent(new CustomEvent(‘mi-evento’)) \n",
    " }\n",
    "```\n",
    "\n",
    "Observamos que al iron-meta le asignamos como valor 'this', o sea, todo el componente, por lo que otros componentes externos tendrán acceso a todas las propiedades declaradas en nuestro 'service', en este ejemplo 'propiedad', así como podremos comunicar top-down desde nuestro service lanzando eventos que pueden ser escuchados por los componentes que desemos, incluyendo en estos un 'addEventListener'\n",
    "\n",
    "- El componente que quiera acceder a las propiedades de nuestro 'service' deverá también incluir un 'iron-meta':\n",
    "\n",
    "```\n",
    "<iron-meta id=\"elmeta\"></iron-meta>\n",
    "```\n",
    "\n",
    "Ahora podremos acceder a la propiedad 'propiedad' de nuestro 'service' y asignársela a la propiedad de nuestro componente externo que deseemos, así como escuchar los eventos lanzados por el 'service'.\n",
    "\n",
    "En la clase 'suscriptor-el':\n",
    "\n",
    "```\n",
    " static get properties() {\n",
    "        return {\n",
    "          service:Object,\n",
    "          propiedad:String,\n",
    "        }\n",
    " }\n",
    "ready(){\n",
    "    super.ready();\n",
    "    this.service = this.$.elmeta.byKey('llave');\n",
    "    this.propiedad = this.service.propiedad;\n",
    "     this.addEventListener(‘mi-evento’,(e) => MiEvento(e))     \n",
    "}\n",
    "\n",
    "\n",
    "\n",
    " MiEvento(){\n",
    "        console.log(‘hola’)\n",
    " }\n",
    "```"
   ]
  },
  {
   "cell_type": "markdown",
   "metadata": {},
   "source": [
    "## Redux"
   ]
  },
  {
   "cell_type": "markdown",
   "metadata": {},
   "source": [
    "![Sin itulo](imagenes/redux.png)"
   ]
  },
  {
   "cell_type": "markdown",
   "metadata": {},
   "source": [
    "### Tres principios básicos de Redux"
   ]
  },
  {
   "cell_type": "markdown",
   "metadata": {},
   "source": [
    "* Store como única fuente de la verdad\n",
    "\n",
    "* El estado (State) es de solo lectura\n",
    "\n",
    "* Los cambios se hacen por medio de acciones (actions) y funciones puras (reducers)\n",
    "\n",
    "***Store como única fuente de la verdad:***\n",
    "\n",
    "El store es el estado al que todos atienden. El único estado de la aplicación válido está en el store. Los componentes que necesiten conocer al estado acudirán al store para recuperarlo.\n",
    "\n",
    "Los datos del store viajan a los componentes en una única dirección. Esto se traduce en que el data-binding que usaremos para enviar al store hacia los componentes será 1-way, de una única dirección.\n",
    "\n",
    "***El estado (State) es de solo lectura:***\n",
    "\n",
    "El estado en Redux es un único objeto Javascript, organizado en modo de árbol (como JSON), que contiene todos los datos que la aplicación va a manejar.\n",
    "\n",
    "El estado de una aplicación podría parecerse a algo como:\n",
    "```\n",
    "{\n",
    "  heroe: \"Super Yo\",\n",
    "  supervillanosPreferidos: [\"Joker\", \"Magneto\"],\n",
    "  vidas: 5,\n",
    "  nivel: 1\n",
    "}\n",
    "```\n",
    "Los componentes que manejan los datos del estado solo leen los datos, no los manipulan. En el caso que ocurra una manipulación permanece sólo en ese componente y no se transfiere al resto de la aplicación.\n",
    "\n",
    "Para poder alterar el estado de la aplicación se usarán acciones. Las acciones (actions) representan la única vía de producirse una modificación en el estado global de la aplicación.\n",
    "\n",
    "Las acciones son descriptivas de aquella modificación que se desea realizar y se representan mediante un objeto Javascript. Ellas contienen, como mínimo, el tipo de acción que se desea realizar. Por ejemplo \"subir un nivel\" o \"restar una vida\". Además, hay acciones que requieren describirse con parámetros adicionales, como podría ser el nombre de un supervillano para agregar a la lista de villanos preferidos.\n",
    "\n",
    "Esta es la forma que podrían tener las acciones:\n",
    "\n",
    "```\n",
    "{ type: \"INCREMENTAR_NIVEL\" }\n",
    "{ type: \"DECREMENTAR_VIDA\" }\n",
    "{ type: \"ANADIR_VILLANO\", nombre: \"Dr. Doom\" }\n",
    "```\n",
    "\n",
    "Como hemos dicho, las dos primeras acciones no requieren ningún dato adicional, porque se entiende que tienen que sumar o restar una unidad, pero en la acción de añadir un villano necesitamos indicar el nombre.\n",
    "\n",
    "***Los cambios se hacen por medio funciones puras***\n",
    "\n",
    "Una vez emitidas las acciones, estas se procesan por medio de funciones puras, a las que se denominan \"reducers\".\n",
    "\n",
    "El reducer siempre recibe dos parámetros: una acción y el estado anterior. Contiene la lógica para procesar tales acciones y como consecuencia de ellas puede modificar al estado. Una vez ejecutada la lógica, el reducer devuelve el nuevo estado.\n",
    "\n",
    "Básicamente nuestros reducers se podrían parecer a un código como este, en el que tenemos un switch con diferentes case para cada acción. Aunque lógicamente, cuando la aplicación se hace grande se podría organizar el código de otra manera, por ejemplo haciendo una función que se encargue de mantener cada parte del estado.\n",
    "\n",
    "```\n",
    "function reducers(state, action) {\n",
    "  switch (action.type) {\n",
    "    case 'INCREMENTAR_NIVEL':\n",
    "      // Ejecutar la lógica\n",
    "      // Devolver un nuevo estado\n",
    "    case 'DECREMENTAR_NIVEL':\n",
    "      // ...\n",
    "    default:\n",
    "      return state\n",
    "  }\n",
    "}\n",
    "```\n",
    "El concepto de reducers como \"funciones puras\" quiere decir que éstas no provocan ningún tipo de efecto colateral. Se encargan de modificar al estado, ellas mismas, y nada más. Esto quiere decir que no modifican directamente partes de la interfaz, no almacenan en base de datos, no producen solicitudes Ajax a servicios web, no llaman a otras funciones para realizar su trabajo, etc.\n",
    "\n",
    "Este sería el diagrama de un reducer.\n",
    "\n",
    "![Sin itulo](imagenes/reducer.svg)\n"
   ]
  },
  {
   "cell_type": "code",
   "execution_count": null,
   "metadata": {
    "collapsed": true
   },
   "outputs": [],
   "source": []
  }
 ],
 "metadata": {
  "kernelspec": {
   "display_name": "Python 3",
   "language": "python",
   "name": "python3"
  },
  "language_info": {
   "codemirror_mode": {
    "name": "ipython",
    "version": 3
   },
   "file_extension": ".py",
   "mimetype": "text/x-python",
   "name": "python",
   "nbconvert_exporter": "python",
   "pygments_lexer": "ipython3",
   "version": "3.6.2"
  }
 },
 "nbformat": 4,
 "nbformat_minor": 2
}
